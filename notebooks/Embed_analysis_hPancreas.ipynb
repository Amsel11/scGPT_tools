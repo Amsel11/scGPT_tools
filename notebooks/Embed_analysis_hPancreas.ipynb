{
 "cells": [
  {
   "cell_type": "code",
   "execution_count": 1,
   "metadata": {},
   "outputs": [
    {
     "name": "stderr",
     "output_type": "stream",
     "text": [
      "c:\\Users\\annel\\anaconda3\\envs\\scgpt_py39\\lib\\site-packages\\scgpt\\model\\model.py:21: UserWarning: flash_attn is not installed\n",
      "  warnings.warn(\"flash_attn is not installed\")\n",
      "c:\\Users\\annel\\anaconda3\\envs\\scgpt_py39\\lib\\site-packages\\scgpt\\model\\multiomic_model.py:19: UserWarning: flash_attn is not installed\n",
      "  warnings.warn(\"flash_attn is not installed\")\n",
      "c:\\Users\\annel\\anaconda3\\envs\\scgpt_py39\\lib\\site-packages\\tqdm\\auto.py:21: TqdmWarning: IProgress not found. Please update jupyter and ipywidgets. See https://ipywidgets.readthedocs.io/en/stable/user_install.html\n",
      "  from .autonotebook import tqdm as notebook_tqdm\n"
     ]
    },
    {
     "data": {
      "text/plain": [
       "<contextlib._GeneratorContextManager at 0x268fa0e4dc0>"
      ]
     },
     "execution_count": 1,
     "metadata": {},
     "output_type": "execute_result"
    }
   ],
   "source": [
    "from pathlib import Path\n",
    "#import warnings\n",
    "import scanpy as sc\n",
    "import scib \n",
    "import numpy as np\n",
    "import pandas as pd\n",
    "import sys \n",
    "\n",
    "import scgpt as scg\n",
    "import matplotlib.pyplot as plt\n",
    "\n",
    "plt.style.context('default')\n",
    "#warnings.simplefilter('ignore', ResourceWarning)\n",
    "\n"
   ]
  },
  {
   "cell_type": "code",
   "execution_count": 2,
   "metadata": {},
   "outputs": [
    {
     "name": "stdout",
     "output_type": "stream",
     "text": [
      "\n",
      "All attributes in scg.tasks:\n",
      "- GeneEmbedding\n",
      "- cell_emb\n",
      "- embed_data\n",
      "- embed_data_cpu\n",
      "- get_batch_cell_embeddings\n",
      "- grn\n"
     ]
    }
   ],
   "source": [
    "print(\"\\nAll attributes in scg.tasks:\")\n",
    "for attr in dir(scg.tasks):\n",
    "    if not attr.startswith('_'):\n",
    "        print(f\"- {attr}\")"
   ]
  },
  {
   "cell_type": "code",
   "execution_count": 3,
   "metadata": {},
   "outputs": [
    {
     "name": "stdout",
     "output_type": "stream",
     "text": [
      "Loading existing HVG AnnData file from C:\\Users\\annel\\OneDrive\\Documenten\\Machine Learning\\scGPT\\save\\adata_hvg.h5ad\n",
      "Loaded AnnData with shape: (16382, 1800)\n",
      "Repository directory: c:\\Users\\annel\\OneDrive\\Documenten\\Machine Learning\\scGPT\n",
      "Model directory: c:\\Users\\annel\\OneDrive\\Documenten\\Machine Learning\\scGPT\\scGPT_data\\scGPT_CP\n"
     ]
    }
   ],
   "source": [
    "# Check if HVG AnnData file exists in save directory\n",
    "hvg_file = Path(\"C:/Users/annel/OneDrive/Documenten/Machine Learning/scGPT/save/adata_hvg.h5ad\")\n",
    "\n",
    "if hvg_file.exists():\n",
    "    print(f\"Loading existing HVG AnnData file from {hvg_file}\")\n",
    "    adata = sc.read_h5ad(hvg_file)\n",
    "    print(f\"Loaded AnnData with shape: {adata.shape}\")\n",
    "else:\n",
    "    print(\"No existing HVG AnnData file found in save directory\")\n",
    "\n",
    "# Define repo dir \n",
    "import sys\n",
    "\n",
    "repo_dir = Path.cwd().parent.absolute()\n",
    "sys.path.append(str(repo_dir))\n",
    "\n",
    "from src.utils import setup_data_dir\n",
    "setup_data_dir()\n",
    "data_dir = repo_dir / \"data\"\n",
    "\n",
    "# Set up of the model directory \n",
    "model_dir = repo_dir / \"scGPT_data\" / \"scGPT_CP\"\n",
    "\n",
    "print(f\"Repository directory: {repo_dir}\")\n",
    "print(f\"Model directory: {model_dir}\")\n",
    "\n",
    "gene_col = \"gene_name\"\n",
    "cell_type_key = \"celltype\" #where the cell names are stored\n",
    "batch_key = \"tech\" #show from different methods \n",
    "N_HVG = 1800 #number of high variable genes \n",
    "\n",
    "\n",
    "\n"
   ]
  },
  {
   "cell_type": "code",
   "execution_count": 8,
   "metadata": {},
   "outputs": [
    {
     "name": "stdout",
     "output_type": "stream",
     "text": [
      "AnnData object with n_obs × n_vars = 16382 × 1722\n",
      "    obs: 'tech', 'celltype', 'size_factors'\n",
      "    var: 'gene_name', 'highly_variable', 'highly_variable_rank', 'means', 'variances', 'variances_norm', 'id_in_vocab'\n",
      "    uns: 'hvg', 'log1p'\n",
      "    obsm: 'X_scGPT'\n",
      "    layers: 'counts'\n",
      "\n",
      "First few rows of scGPT embeddings:\n",
      "        0         1         2         3         4         5         6    \\\n",
      "0  0.073707  0.003733  0.012353  0.045787  0.028686 -0.056230 -0.011507   \n",
      "1  0.071376 -0.001319  0.009428  0.041126  0.030103 -0.045669 -0.007892   \n",
      "2  0.071767 -0.001087  0.003495  0.024505  0.013971 -0.056813 -0.007876   \n",
      "3  0.068650 -0.009042  0.010772  0.032528  0.003143 -0.059393 -0.001724   \n",
      "4  0.050278 -0.014192  0.012542  0.025254  0.020374 -0.052632  0.018501   \n",
      "\n",
      "        7         8         9    ...       502       503       504       505  \\\n",
      "0 -0.010013  0.009184 -0.000568  ...  0.008169  0.018345 -0.009001 -0.054426   \n",
      "1 -0.011339  0.009670 -0.014000  ... -0.006212  0.013708 -0.002215 -0.025881   \n",
      "2 -0.013006  0.005641 -0.000393  ...  0.009032  0.019963 -0.002741 -0.034292   \n",
      "3 -0.005239  0.000050 -0.000701  ...  0.006416  0.015484 -0.005555 -0.036029   \n",
      "4  0.036703 -0.000850  0.045470  ...  0.040856  0.048323 -0.023896 -0.073116   \n",
      "\n",
      "        506       507       508       509       510       511  \n",
      "0 -0.005338  0.053253 -0.018662 -0.061871 -0.006637  0.016113  \n",
      "1 -0.011843  0.039152 -0.011095 -0.070091 -0.012862  0.012441  \n",
      "2 -0.014005  0.037931 -0.015522 -0.066543 -0.006534  0.017417  \n",
      "3 -0.018596  0.053356 -0.017171 -0.065435 -0.007440  0.014150  \n",
      "4  0.044221  0.069515  0.012028 -0.073033 -0.030490 -0.001478  \n",
      "\n",
      "[5 rows x 512 columns]\n"
     ]
    }
   ],
   "source": [
    "Embed_File_Path = Path(r\"C:\\Users\\annel\\OneDrive\\Documenten\\Machine Learning\\scGPT\\data\\human_pancreas_norm_complexBatch_embedded.h5ad\")\n",
    "\n",
    "adata_embed = sc.read_h5ad(Embed_File_Path)\n",
    "\n",
    "print(adata_embed)\n",
    "# Create a dataframe from the scGPT embeddings\n",
    "embeddings_df = pd.DataFrame(adata_embed.obsm[\"X_scGPT\"])\n",
    "\n",
    "# Display the first few rows\n",
    "print(\"\\nFirst few rows of scGPT embeddings:\")\n",
    "print(embeddings_df.head())\n",
    "\n"
   ]
  },
  {
   "cell_type": "code",
   "execution_count": null,
   "metadata": {},
   "outputs": [
    {
     "name": "stdout",
     "output_type": "stream",
     "text": [
      "Reference dataset shape: (13110, 1722)\n",
      "Query dataset shape: (3272, 1722)\n"
     ]
    }
   ],
   "source": [
    "# Randomly split the data into reference and query sets (80% reference, 20% query)\n",
    "np.random.seed(42)  # For reproducibility\n",
    "mask = np.random.rand(len(adata_embed)) < 0.8\n",
    "\n",
    "# Create a column indicating whether each cell is from reference or query set\n",
    "adata_embed.obs[\"is_ref\"] = [\"Reference\" if m else \"Query\" for m in mask]\n",
    "\n",
    "adata_concat.obs[\"is_ref\"] = adata_concat.obs[\"is_ref\"].astype(\"category\")\n",
    "\n",
    "# Create reference and query datasets\n",
    "adata_ref = adata_embed[mask].copy()\n",
    "adata_query = adata_embed[~mask].copy()\n",
    "\n",
    "print(f\"Reference dataset shape: {adata_ref.shape}\")\n",
    "print(f\"Query dataset shape: {adata_query.shape}\")\n",
    "\n",
    "adata_query.obs[\"cell_type\"] = adata_query.obs[\"celltype\"]\n"
   ]
  },
  {
   "cell_type": "code",
   "execution_count": 20,
   "metadata": {},
   "outputs": [],
   "source": [
    "ref_embeddings = adata_ref.obsm[\"X_scGPT\"]\n",
    "query_embeddings = adata_query.obsm[\"X_scGPT\"]\n",
    "\n",
    "\n",
    "\n"
   ]
  }
 ],
 "metadata": {
  "kernelspec": {
   "display_name": "scgpt_py39",
   "language": "python",
   "name": "python3"
  },
  "language_info": {
   "codemirror_mode": {
    "name": "ipython",
    "version": 3
   },
   "file_extension": ".py",
   "mimetype": "text/x-python",
   "name": "python",
   "nbconvert_exporter": "python",
   "pygments_lexer": "ipython3",
   "version": "3.9.21"
  }
 },
 "nbformat": 4,
 "nbformat_minor": 2
}
